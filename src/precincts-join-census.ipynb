{
 "cells": [
  {
   "cell_type": "markdown",
   "metadata": {},
   "source": [
    "# Spatial merge census and precinct data\n",
    "\n",
    "This notebook will join precincts with  census data. \n",
    "\n",
    " Spatial unit of analysis is the precinct. \n",
    " The aim is to join census data to each precinct. The problem is the precinct and block group boundaries don't match up. \n",
    " \n",
    " So, calculate census values for each precinct this way:\n",
    "\n",
    "For each precinct, variable value is a weighted average of the values of the bg's with which that precinct overlaps. \n",
    "\n",
    " x_A =  p_A1 \\* x_1 + p_A2 \\* x_2\n",
    " \n",
    " where\n",
    " \n",
    " x_A = variable x for precinct A, block group 1\n",
    " \n",
    " p_A1 = proportion of precinct A's area that is in block group 1\n",
    " "
   ]
  },
  {
   "cell_type": "code",
   "execution_count": 1,
   "metadata": {
    "collapsed": false
   },
   "outputs": [],
   "source": [
    "%matplotlib inline\n",
    "\n",
    "from geopandas import GeoDataFrame, read_file\n",
    "from geopandas.tools import overlay\n",
    "import pandas as pd\n",
    "import spatial_processing_functions as spf\n",
    "#import importlib\n",
    "#importlib.reload(spf)\n"
   ]
  },
  {
   "cell_type": "markdown",
   "metadata": {
    "collapsed": true
   },
   "source": [
    "SF voting precincts. Boundaries are updated every ten years, and become active two years after the census. \n",
    "We have 1992, 2002, and 2012. \n",
    "years = ['1990','2000','2010','2009','2014']\n",
    "\n",
    "1990 census data -> 1992 precinct + 1990 bg (missing)\n",
    "2000, 2009 census data  -> 2002 precincts + 2000 bgs\n",
    "2010, 2014 census data -> 2012 precincts + 2010 bgs"
   ]
  },
  {
   "cell_type": "markdown",
   "metadata": {},
   "source": [
    "## Step 1: load precinct and census geography shapefiles"
   ]
  },
  {
   "cell_type": "markdown",
   "metadata": {},
   "source": [
    " We'll need the following combinations of censusXprecinct:\n",
    " \n",
    "- ce2000pre1992, ce2000pre2002, ce2007pre2002, ce2012pre2012  <- for census data\n",
    " \n",
    "- 'bg2000pre1992', 'bg2000pre2002', 'bg2010pre2012'  <- for block groups (since ce2007 data uses 2000 bg boundaries)"
   ]
  },
  {
   "cell_type": "code",
   "execution_count": 6,
   "metadata": {
    "collapsed": false,
    "scrolled": true
   },
   "outputs": [
    {
     "name": "stdout",
     "output_type": "stream",
     "text": [
      "omitted 1 row(s) with missing geometry\n",
      "Year 1992: total 712 precincts\n",
      "working on intersection for year bg2000pre1992"
     ]
    },
    {
     "name": "stderr",
     "output_type": "stream",
     "text": [
      "Ring Self-intersection at or near point 550048.52970911062 4183089.8677463285\n",
      "WARNING:shapely.geos:Ring Self-intersection at or near point 550048.52970911062 4183089.8677463285\n",
      "Ring Self-intersection at or near point 552255.16319397336 4178110.7456194456\n",
      "WARNING:shapely.geos:Ring Self-intersection at or near point 552255.16319397336 4178110.7456194456\n",
      "Ring Self-intersection at or near point 544442.71665843052 4181270.9088203469\n",
      "WARNING:shapely.geos:Ring Self-intersection at or near point 544442.71665843052 4181270.9088203469\n",
      "Ring Self-intersection at or near point 544053.45127179928 4178214.2207001671\n",
      "WARNING:shapely.geos:Ring Self-intersection at or near point 544053.45127179928 4178214.2207001671\n"
     ]
    },
    {
     "name": "stdout",
     "output_type": "stream",
     "text": [
      "\n",
      "cols not present\n",
      "Index(['precname', 'area_m', 'ALAND00', 'AWATER00', 'BKGPIDFP00', 'BLKGRPCE00',\n",
      "       'COUNTYFP00', 'FUNCSTAT00', 'INTPTLAT00', 'INTPTLON00', 'MTFCC00',\n",
      "       'NAMELSAD00', 'STATEFP00', 'TRACTCE00', 'geoid', 'area_m_2', 'geometry',\n",
      "       'intersect_area'],\n",
      "      dtype='object')\n",
      "New df has 712 precincts\n",
      "omitted 0 row(s) with missing geometry\n",
      "Year 2002: total 586 precincts\n",
      "working on intersection for year bg2000pre2002"
     ]
    },
    {
     "name": "stderr",
     "output_type": "stream",
     "text": [
      "Ring Self-intersection at or near point 551953.0842455877 4184833.1744046635\n",
      "WARNING:shapely.geos:Ring Self-intersection at or near point 551953.0842455877 4184833.1744046635\n"
     ]
    },
    {
     "name": "stdout",
     "output_type": "stream",
     "text": [
      "\n",
      "cols not present\n",
      "Index(['precname', 'sequenceid', 'area_m', 'ALAND00', 'AWATER00', 'BKGPIDFP00',\n",
      "       'BLKGRPCE00', 'COUNTYFP00', 'FUNCSTAT00', 'INTPTLAT00', 'INTPTLON00',\n",
      "       'MTFCC00', 'NAMELSAD00', 'STATEFP00', 'TRACTCE00', 'geoid', 'area_m_2',\n",
      "       'geometry', 'intersect_area'],\n",
      "      dtype='object')\n",
      "New df has 586 precincts\n",
      "omitted 0 row(s) with missing geometry\n",
      "Year 2012: total 604 precincts\n",
      "working on intersection for year bg2010pre2012"
     ]
    },
    {
     "name": "stderr",
     "output_type": "stream",
     "text": [
      "TopologyException: found non-noded intersection between LINESTRING (553173 4.17682e+06, 553173 4.17682e+06) and LINESTRING (553173 4.17682e+06, 553173 4.17682e+06) at 553173.17171874153 4176823.9786180397\n",
      "ERROR:shapely.geos:TopologyException: found non-noded intersection between LINESTRING (553173 4.17682e+06, 553173 4.17682e+06) and LINESTRING (553173 4.17682e+06, 553173 4.17682e+06) at 553173.17171874153 4176823.9786180397\n"
     ]
    },
    {
     "name": "stdout",
     "output_type": "stream",
     "text": [
      "\n",
      "Index(['precname', 'area_m', 'ALAND10', 'AWATER10', 'GEOID10', 'TRACTCE10',\n",
      "       'geoid', 'area_m_2', 'geometry', 'intersect_area'],\n",
      "      dtype='object')\n",
      "New df has 604 precincts\n"
     ]
    }
   ],
   "source": [
    "\n",
    "\n",
    "bgXprec = dict.fromkeys(['bg2000pre1992', 'bg2000pre2002', 'bg2010pre2012'])\n",
    "for yr_key in bgXprec.keys():\n",
    "    bgs = spf.load_bg_shp(yr_key[2:6])\n",
    "    precincts = spf.load_prec_shp(yr_key[9:13])\n",
    "    precincts = spf.reproject_prec(precincts)\n",
    "    bgXprec[yr_key] = spf.merge_precinct_bg(precincts,bgs,yr_key)\n",
    "    \n",
    "\n",
    "#yr_key ='bg2010pre2012'\n",
    "#bgs = load_bg_shp(yr_key[2:6])\n",
    "#precincts = load_prec_shp(yr_key[9:13])\n",
    "#bgXprec[yr_key] = merge_precinct_bg(precincts,bgs,yr_key)"
   ]
  },
  {
   "cell_type": "code",
   "execution_count": 7,
   "metadata": {
    "collapsed": false
   },
   "outputs": [
    {
     "data": {
      "text/plain": [
       "dict_keys(['bg2000pre1992', 'bg2000pre2002', 'bg2010pre2012'])"
      ]
     },
     "execution_count": 7,
     "metadata": {},
     "output_type": "execute_result"
    }
   ],
   "source": [
    "bgXprec.keys()"
   ]
  },
  {
   "cell_type": "markdown",
   "metadata": {},
   "source": [
    "## Merge with census data"
   ]
  },
  {
   "cell_type": "code",
   "execution_count": 8,
   "metadata": {
    "collapsed": true
   },
   "outputs": [],
   "source": [
    "# We'll need the following combinations of censusXprecinct\n",
    "#ce2000pre1992, ce2000pre2002, ce2007pre2002, ce2012pre2012  <- for census data\n",
    "#'bg2000pre1992', 'bg2000pre2002', 'bg2010pre2012'  <- for block groups\n",
    "\n",
    "\n",
    "# dictionary for matching correct year. \n",
    "# (although we don't actually need 1990 data. )\n",
    "census2bg_year = {'1990':'1990', '2000':'2000','2010':'2010','2007':'2000','2012':'2010'}\n",
    "\n",
    "ce2bgXpre={'ce2000pre1992':'bg2000pre1992','ce2000pre2002':'bg2000pre2002','ce2007pre2002':'bg2000pre2002','ce2012pre2012':'bg2010pre2012'}"
   ]
  },
  {
   "cell_type": "code",
   "execution_count": 9,
   "metadata": {
    "collapsed": false
   },
   "outputs": [
    {
     "name": "stdout",
     "output_type": "stream",
     "text": [
      "\n",
      " ce2000pre2002\n",
      "586 precincts before\n",
      "586 precincts after\n",
      "Sum >1.1 or <.97:\n",
      " precname\n",
      "2009    0.968559\n",
      "Name: prop_area, dtype: float64\n",
      "saved as census_by_precinct_ce2000pre2002.csv\n",
      "\n",
      " ce2007pre2002\n",
      "586 precincts before\n",
      "586 precincts after\n",
      "Sum >1.1 or <.97:\n",
      " precname\n",
      "2009    0.968559\n",
      "Name: prop_area, dtype: float64\n",
      "saved as census_by_precinct_ce2007pre2002.csv\n",
      "\n",
      " ce2012pre2012\n",
      "604 precincts before\n",
      "604 precincts after\n",
      "Sum >1.1 or <.97:\n",
      " Series([], Name: prop_area, dtype: float64)\n",
      "saved as census_by_precinct_ce2012pre2012.csv\n",
      "\n",
      " ce2000pre1992\n",
      "712 precincts before\n",
      "712 precincts after\n",
      "Sum >1.1 or <.97:\n",
      " precname\n",
      "2002    0.935645\n",
      "2005    0.914213\n",
      "2014    0.936640\n",
      "2059    0.953853\n",
      "2816    0.960311\n",
      "Name: prop_area, dtype: float64\n",
      "saved as census_by_precinct_ce2000pre1992.csv\n"
     ]
    }
   ],
   "source": [
    "\n",
    "# load census data, for each year. Then merge with the appropriate bg/precinct file. \n",
    "\n",
    "census_data_by_precinct = dict.fromkeys(['ce2000pre1992', 'ce2000pre2002', 'ce2007pre2002', 'ce2012pre2012'])\n",
    "for yr_key in census_data_by_precinct.keys():\n",
    "    print('\\n',yr_key)\n",
    "    census_yr = yr_key[2:6]\n",
    "    census_df = spf.load_census_data(census_yr)\n",
    "    \n",
    "    #lookup correct bgXprec dataframe to use.\n",
    "    bg_key = ce2bgXpre[yr_key]\n",
    "    \n",
    "    # now merge. \n",
    "    print('{} precincts before'.format(len(bgXprec[bg_key].precname.unique())))\n",
    "    df_merged = pd.merge(bgXprec[bg_key], census_df, on = 'geoid')\n",
    "    print('{} precincts after'.format(len(df_merged.precname.unique())))\n",
    "    \n",
    "    vars_to_use = spf.get_vars_to_use()\n",
    "    cols_to_keep = vars_to_use + ['precname','area_m','intersect_area','geoid']\n",
    "    df_merged = df_merged[cols_to_keep]\n",
    "    df_merged_calc = spf.calc_variables(df_merged, vars_to_use) # leave off geo columns, obviously\n",
    "    \n",
    "    # aggregate back to precinct level. \n",
    "    df_new = spf.agg_vars_by_prec(df_merged_calc)\n",
    "    \n",
    "    # clean up by dropping unweighted and other unneeded columns\n",
    "    df_new.drop(vars_to_use, axis=1, inplace=True)\n",
    "    df_new.drop(['intersect_area','prop_area'], axis=1, inplace=True)\n",
    "    df_new = spf.rename_wgt_cols(df_new, vars_to_use)\n",
    "    \n",
    "    # store data frame in a dictionary\n",
    "    census_data_by_precinct[yr_key] = df_new\n",
    "    # also save as csv. \n",
    "    spf.save_census_data(df_new,yr_key)\n",
    "\n",
    "    \n"
   ]
  },
  {
   "cell_type": "markdown",
   "metadata": {},
   "source": [
    "Let's check out the precincts that don't total 1.0.. something may be wrong. \n",
    "\n",
    "Precinct 2009(2002) is on the SF border and has 931 registered voters. \n",
    "The 5 precincts(1992) with weird results are all on the southern SF border. \n",
    "\n",
    "These that are on the border probably don't add up to 1.0 because the boundaries are slightly different from the census shapefiles. \n",
    "I think it's close enough that it's not a problem. \n",
    "\n",
    "TODO: fix these two precincts.\n",
    "\n",
    "\n",
    "Precincts(2012) 7025 and 7035 are the Hunter's Point Shipyard area. I wonder if this is messed up because boundaries changed? \n",
    "Something's clearly wrong with 7035 because there are 327 registered voters and a tot population of only ~34. \n",
    "7025 has 441 registered voters and tot pop of ~1323.\n",
    "For these, it might be more of a problem because they're really far off. \n",
    "Probably have to omit them until I can come back and figure out what to do. "
   ]
  },
  {
   "cell_type": "code",
   "execution_count": 20,
   "metadata": {
    "collapsed": false
   },
   "outputs": [
    {
     "name": "stdout",
     "output_type": "stream",
     "text": [
      "0\n",
      "0\n",
      "0\n",
      "0\n"
     ]
    }
   ],
   "source": [
    "# look for other missing data. # can't find any other missing data here. \n",
    "\n",
    "for yr_key in census_data_by_precinct.keys():\n",
    "    print(len(census_data_by_precinct[yr_key][pd.isnull(census_data_by_precinct[yr_key]['med_inc_wgt'])]))"
   ]
  },
  {
   "cell_type": "code",
   "execution_count": null,
   "metadata": {
    "collapsed": true
   },
   "outputs": [],
   "source": []
  }
 ],
 "metadata": {
  "kernelspec": {
   "display_name": "Python 3",
   "language": "python",
   "name": "python3"
  },
  "language_info": {
   "codemirror_mode": {
    "name": "ipython",
    "version": 3
   },
   "file_extension": ".py",
   "mimetype": "text/x-python",
   "name": "python",
   "nbconvert_exporter": "python",
   "pygments_lexer": "ipython3",
   "version": "3.5.2"
  }
 },
 "nbformat": 4,
 "nbformat_minor": 0
}

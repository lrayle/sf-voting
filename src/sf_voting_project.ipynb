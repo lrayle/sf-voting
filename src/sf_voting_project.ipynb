{
 "cells": [
  {
   "cell_type": "markdown",
   "metadata": {
    "collapsed": true
   },
   "source": [
    "This notebook runs the SF election data preparation and analysis"
   ]
  },
  {
   "cell_type": "code",
   "execution_count": 193,
   "metadata": {
    "collapsed": false
   },
   "outputs": [],
   "source": [
    "import pandas as pd\n",
    "import numpy as np\n",
    "import os\n",
    "import re\n",
    "import openpyxl\n",
    "from xlrd import open_workbook\n",
    "from datetime import date\n",
    "\n",
    "from geopandas import GeoDataFrame, read_file\n",
    "\n",
    "import data_prep_functions as dpf\n",
    "from spatial_processing_functions import load_prec_shp\n"
   ]
  },
  {
   "cell_type": "markdown",
   "metadata": {},
   "source": [
    "## Extract data from election result .xls files"
   ]
  },
  {
   "cell_type": "code",
   "execution_count": 194,
   "metadata": {
    "collapsed": false
   },
   "outputs": [],
   "source": [
    "datapath = '../data/SOV_w_nimby/'\n",
    "\n",
    "# read all files in the folder\n",
    "# keep data in a dictionary, where keys are election date (e.g., 200111)\n",
    "file_list = os.listdir(datapath)\n",
    "vote_data = {}\n",
    "for f in file_list:\n",
    "    d=f.strip('SOV').strip('.xls')\n",
    "    d=d[:-2]\n",
    "    if d[0]=='9':\n",
    "        d='19'+d\n",
    "    else:\n",
    "        d='20'+d\n",
    "    vote_data[d]={}\n",
    "    vote_data[d]['filename'] =f\n"
   ]
  },
  {
   "cell_type": "code",
   "execution_count": 195,
   "metadata": {
    "collapsed": false
   },
   "outputs": [],
   "source": [
    "# define regex search term that will match name of worksheet with local propositions\n",
    "phrase = 'prop|meas'\n",
    "phrase_state = 'state|st'\n",
    "\n",
    "for d in vote_data.keys(): \n",
    "    f=vote_data[d]['filename']\n",
    "    # first only do .xls files.. because need different package to read these.\n",
    "    if f.split('.')[1]=='xls':      \n",
    "        #print(f)\n",
    "        wkbk=open_workbook(datapath+f)\n",
    "        \n",
    "        # Find the sheet(s) with local ballot proposals. \n",
    "        sheets_w_props=dpf.find_matching_sheets(wkbk, to_match=phrase, to_not_match=phrase_state)\n",
    "        vote_data[d]['sheet_names'] = sheets_w_props\n",
    "\n",
    "                \n",
    "# Here are ones with weird formats. \n",
    "vote_data['199711']['sheet_names']=['A - D','E - F']\n",
    "vote_data['199706']['sheet_names']=['970603']\n",
    "vote_data['199911']['sheet_names']=['E to H','I to K']\n",
    "\n",
    "vote_data['201411']['sheet_names']=['370 - Local Measure F']\n",
    "vote_data['201511']['sheet_names']=['180 - Local Measure D','205 - Local Measure I']\n",
    "\n"
   ]
  },
  {
   "cell_type": "code",
   "execution_count": 196,
   "metadata": {
    "collapsed": false
   },
   "outputs": [],
   "source": [
    "# now find the data within each sheet\n",
    "\n",
    "# Define the ballot props we want for each election:\n",
    "proposals = pd.read_excel('../data/BallotPropositions_nimby2.xlsx')  \n",
    "proposals.head()\n",
    "proposals['Year_str']=proposals['Year'].astype(str)\n",
    "proposals['Mo_str']=proposals['Month2'].astype(str)\n",
    "\n",
    "for i,d in enumerate(proposals['Mo_str']):\n",
    "    if len(d)==1:\n",
    "        d='0'+d\n",
    "    proposals.loc[i,'Mo_str']=d\n",
    "\n",
    "proposals['Date_str']=proposals['Year_str']+proposals['Mo_str']\n",
    "#proposals.head()\n",
    "\n",
    "for d in vote_data.keys():\n",
    "    p_list=list(proposals[proposals['Date_str']==d]['Letter'].values)\n",
    "    vote_data[d]['props'] = dict.fromkeys(p_list,{})\n"
   ]
  },
  {
   "cell_type": "code",
   "execution_count": 197,
   "metadata": {
    "collapsed": false
   },
   "outputs": [],
   "source": [
    "# Edit sheetnames so only the ones we need are listed\n",
    "vote_data['199711']['sheet_names']=['E - F']\n",
    "vote_data['199811']['sheet_names']= ['City Prop A-E']\n",
    "vote_data['200011']['sheet_names']=['Prop K-O']\n",
    "vote_data['200111']['sheet_names']=['AMENDMENTS']"
   ]
  },
  {
   "cell_type": "code",
   "execution_count": 198,
   "metadata": {
    "collapsed": false
   },
   "outputs": [
    {
     "name": "stdout",
     "output_type": "stream",
     "text": [
      "has multiple sheets: 199911\n",
      "has multiple sheets: 201511\n",
      "has multiple sheets: 201311\n"
     ]
    }
   ],
   "source": [
    "# find the data for that prop in each sheet\n",
    "for d in vote_data.keys():\n",
    "    #print(d)\n",
    "    letters=list(vote_data[d]['props'].keys())\n",
    "    # we want one sheet for each prop letter\n",
    "\n",
    "    # I think I should handle them differently if there are multiple props\n",
    "    # there might be multiple letters, there might be multiple sheets, or both. \n",
    "    # but if there's only one letter, there's only one sheet.\n",
    "    if len(letters) >1:\n",
    "        # when there are multiple letters, there may be multiple sheets, or just one sheet. \n",
    "        # if there are multiple sheets, need to make sure the sheet matches the letter. There are only 3 of these\n",
    "        # should match these by hand.\n",
    "        if len(vote_data[d]['sheet_names'])>1:\n",
    "                print('has multiple sheets:',d)\n",
    "                \n",
    "        elif len(vote_data[d]['sheet_names'])<=1:\n",
    "            # when there are multiple letter but one sheet, easy to match each letter to the one sheet\n",
    "            #print('has one sheet, multiple letters:',d)\n",
    "            for l in letters:\n",
    "                vote_data[d]['props'][l] = {'s_name':vote_data[d]['sheet_names'][0]}\n",
    "\n",
    "    else:\n",
    "        # there's only one sheet, which will match the one letter. \n",
    "        vote_data[d]['props'][letters[0]]={'s_name':vote_data[d]['sheet_names'][0]}\n",
    "\n",
    "# where multiple sheets and mult letters, match by hand.\n",
    "vote_data['201511']['props']['D']={'s_name':'180 - Local Measure D'}\n",
    "vote_data['201511']['props']['I']={'s_name':'205 - Local Measure I'}\n",
    "vote_data['199911']['props']['H']={'s_name':'E to H','col_name':'PROP H'}\n",
    "vote_data['199911']['props']['I']={'s_name':'I to K','col_name':'PROP I'}\n",
    "vote_data['199911']['props']['J']={'s_name':'I to K','col_name':'PROP J'}\n",
    "vote_data['201311']['props']['B']={'s_name':'Measure A & B'}\n",
    "vote_data['201311']['props']['C']={'s_name':'Measure C & D'}"
   ]
  },
  {
   "cell_type": "code",
   "execution_count": 199,
   "metadata": {
    "collapsed": true
   },
   "outputs": [],
   "source": [
    "# Define the custom parameters we'll need to read in the excel files. \n",
    "vote_data = dpf.define_excel_params(vote_data)"
   ]
  },
  {
   "cell_type": "code",
   "execution_count": 200,
   "metadata": {
    "collapsed": false
   },
   "outputs": [],
   "source": [
    "# read excel files for each election... \n",
    "for d in list(vote_data.keys()):\n",
    "    for l in vote_data[d]['props'].keys():\n",
    "        #print('\\n',d,l)\n",
    "        data=dpf.read_vote_sheet(d,l,vote_df=vote_data, path='../data/SOV_w_nimby/')\n",
    "        # test if already has multiindex:\n",
    "        if isinstance(data.index, pd.core.index.MultiIndex): \n",
    "            data=dpf.rename_index_and_cols(data)\n",
    "\n",
    "        else:\n",
    "            desc = dpf.check_if_descriptive(d)\n",
    "            data=dpf.format_df_to_multiindex(data, descriptive_labels=desc)\n",
    "            data=dpf.rename_index_and_cols(data)\n",
    "        \n",
    "        vote_data[d]['props'][l]['data']=data\n",
    "#data.head()\n"
   ]
  },
  {
   "cell_type": "code",
   "execution_count": 201,
   "metadata": {
    "collapsed": false
   },
   "outputs": [],
   "source": [
    "# Verify totals\n",
    "\n",
    "dpf.verify_vote_totals(vote_data, fname='verify_percentages.csv')\n",
    "\n",
    "# Check sums verify. Some of these are off. \n",
    "# For the 90s elections, there are three mysterious \"ballot types\" at the beginning that don't have a precinct.\n",
    "# that's what's throwing off the totals. Might be votes for people who don't vote at an address, like prisoners or something.\n",
    "# So just make sure that, when reporting full results, rely on the original sheet and not the dataframe. \n",
    "# otherwise everything checks out. \n",
    "   "
   ]
  },
  {
   "cell_type": "markdown",
   "metadata": {},
   "source": [
    "## Process data"
   ]
  },
  {
   "cell_type": "code",
   "execution_count": 203,
   "metadata": {
    "collapsed": false
   },
   "outputs": [
    {
     "data": {
      "text/html": [
       "<div>\n",
       "<table border=\"1\" class=\"dataframe\">\n",
       "  <thead>\n",
       "    <tr style=\"text-align: right;\">\n",
       "      <th></th>\n",
       "      <th>voted</th>\n",
       "      <th>YES</th>\n",
       "      <th>NO</th>\n",
       "      <th>registered</th>\n",
       "    </tr>\n",
       "    <tr>\n",
       "      <th>precinct</th>\n",
       "      <th></th>\n",
       "      <th></th>\n",
       "      <th></th>\n",
       "      <th></th>\n",
       "    </tr>\n",
       "  </thead>\n",
       "  <tbody>\n",
       "    <tr>\n",
       "      <th>PCT 1101</th>\n",
       "      <td>315</td>\n",
       "      <td>201</td>\n",
       "      <td>90</td>\n",
       "      <td>806</td>\n",
       "    </tr>\n",
       "    <tr>\n",
       "      <th>PCT 1102</th>\n",
       "      <td>397</td>\n",
       "      <td>247</td>\n",
       "      <td>115</td>\n",
       "      <td>937</td>\n",
       "    </tr>\n",
       "    <tr>\n",
       "      <th>PCT 1103</th>\n",
       "      <td>283</td>\n",
       "      <td>169</td>\n",
       "      <td>90</td>\n",
       "      <td>750</td>\n",
       "    </tr>\n",
       "    <tr>\n",
       "      <th>PCT 1104</th>\n",
       "      <td>335</td>\n",
       "      <td>198</td>\n",
       "      <td>112</td>\n",
       "      <td>844</td>\n",
       "    </tr>\n",
       "    <tr>\n",
       "      <th>PCT 1105</th>\n",
       "      <td>282</td>\n",
       "      <td>161</td>\n",
       "      <td>92</td>\n",
       "      <td>884</td>\n",
       "    </tr>\n",
       "  </tbody>\n",
       "</table>\n",
       "</div>"
      ],
      "text/plain": [
       "          voted  YES   NO  registered\n",
       "precinct                             \n",
       "PCT 1101    315  201   90         806\n",
       "PCT 1102    397  247  115         937\n",
       "PCT 1103    283  169   90         750\n",
       "PCT 1104    335  198  112         844\n",
       "PCT 1105    282  161   92         884"
      ]
     },
     "execution_count": 203,
     "metadata": {},
     "output_type": "execute_result"
    }
   ],
   "source": [
    "\n",
    "vote_data1 = dpf.process_votedata(vote_data, dpf.consolidate_abs)\n",
    "vote_data1.keys()\n",
    "vote_data1['200806']['props']['G']['data'].head()"
   ]
  },
  {
   "cell_type": "markdown",
   "metadata": {},
   "source": [
    "## define variables"
   ]
  },
  {
   "cell_type": "code",
   "execution_count": 204,
   "metadata": {
    "collapsed": true
   },
   "outputs": [],
   "source": [
    "vote_data2 = dpf.process_votedata(vote_data1, dpf.make_vote_variables, use_datekey=True, use_propkey=True,df_prop=proposals)"
   ]
  },
  {
   "cell_type": "code",
   "execution_count": 205,
   "metadata": {
    "collapsed": false
   },
   "outputs": [
    {
     "data": {
      "text/plain": [
       "680"
      ]
     },
     "execution_count": 205,
     "metadata": {},
     "output_type": "execute_result"
    }
   ],
   "source": [
    "# test cell - left off here.\n",
    "# still have a small amount of missing data. \n",
    "# '201311', 'B', len: 409\n",
    "# '199811','E',len: 644\n",
    "# '199706', 'F',len: 534. \n",
    "\n",
    "\n",
    "yrmo = '199706'\n",
    "prop = 'F'\n",
    "df_test = vote_data4[yrmo]['props'][prop]['data']\n",
    "df_test.head()\n",
    "len(df_test.precname.unique())\n"
   ]
  },
  {
   "cell_type": "markdown",
   "metadata": {},
   "source": [
    "## Merge voting data with census data by precinct"
   ]
  },
  {
   "cell_type": "code",
   "execution_count": 206,
   "metadata": {
    "collapsed": false,
    "scrolled": true
   },
   "outputs": [
    {
     "name": "stdout",
     "output_type": "stream",
     "text": [
      "\n",
      " for election  199811\n",
      "length vote data:  687 length census data:  712\n",
      "length new data:  680\n",
      "\n",
      " for election  200111\n",
      "length vote data:  690 length census data:  712\n",
      "length new data:  684\n",
      "\n",
      " for election  200211\n",
      "length vote data:  713 length census data:  712\n",
      "length new data:  691\n",
      "\n",
      " for election  200211\n",
      "length vote data:  713 length census data:  712\n",
      "length new data:  691\n",
      "\n",
      " for election  199911\n",
      "length vote data:  687 length census data:  712\n",
      "length new data:  680\n",
      "\n",
      " for election  199911\n",
      "length vote data:  687 length census data:  712\n",
      "length new data:  680\n",
      "\n",
      " for election  199911\n",
      "length vote data:  687 length census data:  712\n",
      "length new data:  680\n",
      "\n",
      " for election  199706\n",
      "length vote data:  687 length census data:  712\n",
      "length new data:  686\n",
      "\n",
      " for election  200203\n",
      "length vote data:  700 length census data:  712\n",
      "length new data:  688\n",
      "\n",
      " for election  201511\n",
      "length vote data:  597 length census data:  603\n",
      "length new data:  582\n",
      "\n",
      " for election  201511\n",
      "length vote data:  597 length census data:  603\n",
      "length new data:  582\n",
      "\n",
      " for election  201411\n",
      "length vote data:  597 length census data:  603\n",
      "length new data:  582\n",
      "\n",
      " for election  199711\n",
      "length vote data:  687 length census data:  712\n",
      "length new data:  686\n",
      "\n",
      " for election  201406\n",
      "length vote data:  603 length census data:  603\n",
      "length new data:  582\n",
      "\n",
      " for election  200011\n",
      "length vote data:  689 length census data:  712\n",
      "length new data:  688\n",
      "\n",
      " for election  200011\n",
      "length vote data:  689 length census data:  712\n",
      "length new data:  688\n",
      "\n",
      " for election  201311\n",
      "length vote data:  600 length census data:  603\n",
      "length new data:  582\n",
      "\n",
      " for election  201311\n",
      "length vote data:  600 length census data:  603\n",
      "length new data:  582\n",
      "\n",
      " for election  199806\n",
      "length vote data:  687 length census data:  712\n",
      "length new data:  686\n",
      "\n",
      " for election  199806\n",
      "length vote data:  687 length census data:  712\n",
      "length new data:  686\n",
      "\n",
      " for election  199806\n",
      "length vote data:  687 length census data:  712\n",
      "length new data:  686\n",
      "\n",
      " for election  199603\n",
      "length vote data:  681 length census data:  712\n",
      "length new data:  674\n",
      "\n",
      " for election  200403\n",
      "length vote data:  581 length census data:  586\n",
      "length new data:  581\n",
      "\n",
      " for election  200003\n",
      "length vote data:  688 length census data:  712\n",
      "length new data:  681\n",
      "\n",
      " for election  200611\n",
      "length vote data:  581 length census data:  586\n",
      "length new data:  562\n",
      "\n",
      " for election  200411\n",
      "length vote data:  581 length census data:  586\n",
      "length new data:  564\n",
      "\n",
      " for election  200806\n",
      "length vote data:  562 length census data:  586\n",
      "length new data:  562\n",
      "\n",
      " for election  200806\n",
      "length vote data:  562 length census data:  586\n",
      "length new data:  562\n"
     ]
    }
   ],
   "source": [
    "# format precinct names \n",
    "vote_data3 = dpf.process_votedata(vote_data2, dpf.format_precincts)\n",
    "\n",
    "# let's merge!\n",
    "vote_data4 = dpf.process_votedata(vote_data3, dpf.merge_vote_census, use_datekey=True)\n"
   ]
  },
  {
   "cell_type": "code",
   "execution_count": 207,
   "metadata": {
    "collapsed": false
   },
   "outputs": [
    {
     "data": {
      "text/plain": [
       "Index(['voted', 'YES', 'NO', 'registered', 'tot_nimby_votes', 'pct_nimby',\n",
       "       'turnout', 'precname', 'area_m', 'tot_hu_wgt', 'occ_hu_wgt',\n",
       "       'owned_wgt', 'rented_wgt', 'hu_detatched_wgt', 'hu_2_wgt', 'hu_3-4_wgt',\n",
       "       'hu_5-9_wgt', 'hu_10-19_wgt', 'hu_20-49_wgt', 'hu_50_wgt',\n",
       "       'families_wgt', 'tot_hhs_wgt', 'tot_pop_wgt', 'white_wgt', 'black_wgt',\n",
       "       'asian_wgt', 'hispanic_wgt', 'med_yr_built_wgt', 'foreign_born_wgt',\n",
       "       'med_yr_moved_all_wgt', 'med_yr_moved_owner_wgt', 'med_value_wgt',\n",
       "       'med_inc_wgt', 'med_age_wgt'],\n",
       "      dtype='object')"
      ]
     },
     "execution_count": 207,
     "metadata": {},
     "output_type": "execute_result"
    }
   ],
   "source": [
    "df_test = vote_data4['200403']['props']['J']['data']\n",
    "df_test.columns"
   ]
  },
  {
   "cell_type": "markdown",
   "metadata": {},
   "source": [
    "# Prepare data for R, then save"
   ]
  },
  {
   "cell_type": "markdown",
   "metadata": {},
   "source": [
    "Make a dataset that combines all elections, but make sure to have proposal and year dummies\n",
    "\n",
    "Create dummy variables:  \n",
    "- year\n",
    "\n",
    "- pres election year\n",
    "\n",
    "- november election\n",
    " "
   ]
  },
  {
   "cell_type": "code",
   "execution_count": 208,
   "metadata": {
    "collapsed": false
   },
   "outputs": [],
   "source": [
    "vote_data5 = dpf.process_votedata(vote_data4, dpf.make_election_dummies, use_datekey=True, use_propkey=True)\n",
    "vote_data6 = dpf.process_votedata(vote_data5, dpf.fix_yr_built_moved, use_datekey=True)\n",
    "vote_data7 = dpf.process_votedata(vote_data6, dpf.adjust_inflation, use_datekey=True)"
   ]
  },
  {
   "cell_type": "code",
   "execution_count": 210,
   "metadata": {
    "collapsed": false
   },
   "outputs": [
    {
     "name": "stdout",
     "output_type": "stream",
     "text": [
      "working on  199811 E\n",
      "680\n",
      "working on  200111 D\n",
      "684\n",
      "working on  200211 B\n",
      "691\n",
      "working on  200211 R\n",
      "691\n",
      "working on  199911 J\n",
      "680\n",
      "working on  199911 I\n",
      "680\n",
      "working on  199911 H\n",
      "680\n",
      "working on  199706 F\n",
      "686\n",
      "working on  200203 D\n",
      "688\n",
      "working on  201511 D\n",
      "582\n",
      "working on  201511 I\n",
      "582\n",
      "working on  201411 F\n",
      "582\n",
      "working on  199711 H\n",
      "686\n",
      "working on  201406 B\n",
      "582\n",
      "working on  200011 K\n",
      "688\n",
      "working on  200011 L\n",
      "688\n",
      "working on  201311 B\n",
      "582\n",
      "working on  201311 C\n",
      "582\n",
      "working on  199806 K\n",
      "686\n",
      "working on  199806 I\n",
      "686\n",
      "working on  199806 E\n",
      "686\n",
      "working on  199603 B\n",
      "674\n",
      "working on  200403 J\n",
      "581\n",
      "working on  200003 C\n",
      "681\n",
      "working on  200611 G\n",
      "562\n",
      "working on  200411 A\n",
      "564\n",
      "working on  200806 F\n",
      "562\n",
      "working on  200806 G\n",
      "562\n"
     ]
    }
   ],
   "source": [
    "all_data = dpf.combine_dataframes(vote_data7)"
   ]
  },
  {
   "cell_type": "code",
   "execution_count": 211,
   "metadata": {
    "collapsed": false
   },
   "outputs": [],
   "source": [
    "# fill na with False, for year dummies\n",
    "yr_cols = ['yr_1996', 'yr_1997', 'yr_1998','yr_1999', 'yr_2000', 'yr_2001', 'yr_2002', 'yr_2004', 'yr_2006',\n",
    "       'yr_2008', 'yr_2013', 'yr_2014', 'yr_2015']\n",
    "\n",
    "all_data[yr_cols] = all_data[yr_cols].fillna(value=False)\n",
    "\n",
    "# rename columns to get rid of \"_wgt\"\n",
    "all_data = dpf.rename_columns(all_data)\n"
   ]
  },
  {
   "cell_type": "code",
   "execution_count": 212,
   "metadata": {
    "collapsed": false
   },
   "outputs": [],
   "source": [
    "# save!\n",
    "\n",
    "date.today().strftime('%m%d%Y')\n",
    "filepath = '../results/'\n",
    "d = date.today().strftime('%m%d%Y')\n",
    "filename = 'voting_data_all_{}.csv'.format(d)\n",
    "\n",
    "all_data.to_csv(filepath+filename, index=False)\n"
   ]
  },
  {
   "cell_type": "code",
   "execution_count": 213,
   "metadata": {
    "collapsed": false
   },
   "outputs": [
    {
     "name": "stdout",
     "output_type": "stream",
     "text": [
      "199603B 674\n",
      "199706F 686\n",
      "199711H 686\n",
      "199806E 686\n",
      "199806I 686\n",
      "199806K 686\n",
      "199811E 680\n",
      "199911H 680\n",
      "199911I 680\n",
      "199911J 680\n",
      "200003C 681\n",
      "200011K 688\n",
      "200011L 688\n",
      "200111D 684\n",
      "200203D 688\n",
      "200211B 691\n",
      "200211R 691\n",
      "200403J 581\n",
      "200411A 564\n",
      "200611G 562\n",
      "200806F 562\n",
      "200806G 562\n",
      "201311B 582\n",
      "201311C 582\n",
      "201406B 582\n",
      "201411F 582\n",
      "201511D 582\n",
      "201511I 582\n"
     ]
    }
   ],
   "source": [
    " \n",
    "yr_prop_cols = sorted(all_data.yr_prop.unique())\n",
    "for yp in yr_prop_cols: \n",
    "    print(yp, len(all_data[all_data.yr_prop==yp]))\n"
   ]
  },
  {
   "cell_type": "markdown",
   "metadata": {},
   "source": [
    "# Prepare data for visualization\n",
    "\n",
    "- Join result data with precincts, on prec ID, matching appropriate years.\n",
    "\n",
    "- Write to geojson files - 1 geojson file for each precinct layer (3 files)"
   ]
  },
  {
   "cell_type": "code",
   "execution_count": 215,
   "metadata": {
    "collapsed": false
   },
   "outputs": [
    {
     "name": "stdout",
     "output_type": "stream",
     "text": [
      "omitted 1 row(s) with missing geometry\n",
      "total 712 precincts\n",
      "omitted 0 row(s) with missing geometry\n",
      "total 586 precincts\n",
      "omitted 0 row(s) with missing geometry\n",
      "total 604 precincts\n"
     ]
    }
   ],
   "source": [
    "# make a column with year_month\n",
    "all_data['yr_mo'] = all_data['yr_prop'].str[:-1].astype(int)\n",
    "\n",
    "prec_keys=['pre1992','pre2002','pre2012']\n",
    "\n",
    "for prec_key in prec_keys:\n",
    "    yr = prec_key[-4:]\n",
    "    \n",
    "    # load precinct shapefiles as geodataframes\n",
    "    prec_df = load_prec_shp(yr)\n",
    "    \n",
    "    # filter all data based on the year\n",
    "    vote_df = dpf.filter_for_dates(all_data, prec_key)  \n",
    "    \n",
    "    # merge on precinct id \n",
    "    merged = pd.merge(prec_df, vote_df, on='precname')\n",
    "    \n",
    "    # remove unneeded columns to reduce file size\n",
    "    cols_to_drop = ['foreign_born','yr_1996', 'yr_1997', 'yr_1998','yr_1999', 'yr_2000', 'yr_2001', 'yr_2002', 'yr_2004', 'yr_2006',\n",
    "       'yr_2008', 'yr_2013', 'yr_2014', 'yr_2015']\n",
    "    try: \n",
    "        merged = merged.drop(cols_to_drop, axis=1)\n",
    "    except ValueError as err:\n",
    "        print('Error: {}'.format(err))\n",
    "    \n",
    "    # write to geojson by writing to a json string\n",
    "    path= '../results/maps/'\n",
    "    filename = 'results_{}.geojson'.format(prec_key)\n",
    "    \n",
    "    with open(path+filename, 'w') as f:\n",
    "        f.write(merged.to_json())\n",
    "        \n",
    "    "
   ]
  }
 ],
 "metadata": {
  "kernelspec": {
   "display_name": "Python 3",
   "language": "python",
   "name": "python3"
  },
  "language_info": {
   "codemirror_mode": {
    "name": "ipython",
    "version": 3
   },
   "file_extension": ".py",
   "mimetype": "text/x-python",
   "name": "python",
   "nbconvert_exporter": "python",
   "pygments_lexer": "ipython3",
   "version": "3.5.2"
  }
 },
 "nbformat": 4,
 "nbformat_minor": 0
}

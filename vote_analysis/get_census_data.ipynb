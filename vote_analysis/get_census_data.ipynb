{
 "cells": [
  {
   "cell_type": "markdown",
   "metadata": {},
   "source": [
    "# This notebook will get census data from the API. \n",
    "\n",
    "### Steps: \n",
    "\n",
    "\n",
    "1. Define census variables to be retrieved\n",
    "2. Format request for API\n",
    "3. Get request\n",
    "4. Format returned data and save as csv or json\n",
    "\n",
    "\n"
   ]
  },
  {
   "cell_type": "code",
   "execution_count": 40,
   "metadata": {
    "collapsed": true
   },
   "outputs": [],
   "source": [
    "import pandas as pd, numpy as np\n",
    "import os\n",
    "from pprint import pprint\n",
    "import requests\n",
    "from timeit import default_timer as timer"
   ]
  },
  {
   "cell_type": "code",
   "execution_count": 41,
   "metadata": {
    "collapsed": true
   },
   "outputs": [],
   "source": [
    "path='/Users/lisarayle/Dropbox/sf_data/census'\n",
    "os.chdir(path)"
   ]
  },
  {
   "cell_type": "markdown",
   "metadata": {
    "collapsed": true
   },
   "source": [
    "## Define census variables"
   ]
  },
  {
   "cell_type": "code",
   "execution_count": 42,
   "metadata": {
    "collapsed": false
   },
   "outputs": [
    {
     "data": {
      "text/html": [
       "<div>\n",
       "<table border=\"1\" class=\"dataframe\">\n",
       "  <thead>\n",
       "    <tr style=\"text-align: right;\">\n",
       "      <th></th>\n",
       "      <th>name</th>\n",
       "      <th>description</th>\n",
       "      <th>1990_sf1</th>\n",
       "      <th>1990_sf3</th>\n",
       "      <th>2000_sf1</th>\n",
       "      <th>2000_sf3</th>\n",
       "      <th>2010_sf1</th>\n",
       "      <th>acs5</th>\n",
       "      <th>2012_acs5</th>\n",
       "      <th>use_in_final</th>\n",
       "    </tr>\n",
       "  </thead>\n",
       "  <tbody>\n",
       "    <tr>\n",
       "      <th>0</th>\n",
       "      <td>tot_pop_occ_units</td>\n",
       "      <td>total population in occupied housing units</td>\n",
       "      <td>NaN</td>\n",
       "      <td>NaN</td>\n",
       "      <td>H010001</td>\n",
       "      <td>NaN</td>\n",
       "      <td>H0100001</td>\n",
       "      <td>B25026_001E</td>\n",
       "      <td>NaN</td>\n",
       "      <td>NaN</td>\n",
       "    </tr>\n",
       "    <tr>\n",
       "      <th>1</th>\n",
       "      <td>tot_hu</td>\n",
       "      <td>total housing units</td>\n",
       "      <td>H0010001</td>\n",
       "      <td>NaN</td>\n",
       "      <td>H001001</td>\n",
       "      <td>NaN</td>\n",
       "      <td>H00010001</td>\n",
       "      <td>B25034_001E</td>\n",
       "      <td>NaN</td>\n",
       "      <td>yes</td>\n",
       "    </tr>\n",
       "    <tr>\n",
       "      <th>2</th>\n",
       "      <td>avg_hh_size</td>\n",
       "      <td>average household size for occupied housing units</td>\n",
       "      <td>NaN</td>\n",
       "      <td>NaN</td>\n",
       "      <td>H012001</td>\n",
       "      <td>NaN</td>\n",
       "      <td>H0120001</td>\n",
       "      <td>B25010_001E</td>\n",
       "      <td>NaN</td>\n",
       "      <td>NaN</td>\n",
       "    </tr>\n",
       "    <tr>\n",
       "      <th>3</th>\n",
       "      <td>occ_hu</td>\n",
       "      <td>occupation status - occupied</td>\n",
       "      <td>H0020001</td>\n",
       "      <td>NaN</td>\n",
       "      <td>H003002</td>\n",
       "      <td>NaN</td>\n",
       "      <td>H0030002</td>\n",
       "      <td>B25002_002E</td>\n",
       "      <td>NaN</td>\n",
       "      <td>yes</td>\n",
       "    </tr>\n",
       "    <tr>\n",
       "      <th>4</th>\n",
       "      <td>mortgage</td>\n",
       "      <td>tenure - owned with mortgage</td>\n",
       "      <td>NaN</td>\n",
       "      <td>NaN</td>\n",
       "      <td>NaN</td>\n",
       "      <td>H080002</td>\n",
       "      <td>H0040002</td>\n",
       "      <td>B25027_002E</td>\n",
       "      <td>NaN</td>\n",
       "      <td>NaN</td>\n",
       "    </tr>\n",
       "    <tr>\n",
       "      <th>5</th>\n",
       "      <td>no_mort</td>\n",
       "      <td>tenure - owned free and clear</td>\n",
       "      <td>NaN</td>\n",
       "      <td>NaN</td>\n",
       "      <td>NaN</td>\n",
       "      <td>H080008</td>\n",
       "      <td>H0040003</td>\n",
       "      <td>B25027_010E</td>\n",
       "      <td>NaN</td>\n",
       "      <td>NaN</td>\n",
       "    </tr>\n",
       "    <tr>\n",
       "      <th>6</th>\n",
       "      <td>owned</td>\n",
       "      <td>owner-occupied housing units</td>\n",
       "      <td>H0030001</td>\n",
       "      <td>NaN</td>\n",
       "      <td>H004002</td>\n",
       "      <td>NaN</td>\n",
       "      <td>NaN</td>\n",
       "      <td>B25036_002E</td>\n",
       "      <td>B25036_002E</td>\n",
       "      <td>yes</td>\n",
       "    </tr>\n",
       "    <tr>\n",
       "      <th>7</th>\n",
       "      <td>rented</td>\n",
       "      <td>renter-occupied housing units</td>\n",
       "      <td>H0030002</td>\n",
       "      <td>NaN</td>\n",
       "      <td>H004003</td>\n",
       "      <td>NaN</td>\n",
       "      <td>H0040004</td>\n",
       "      <td>B25036_012E</td>\n",
       "      <td>NaN</td>\n",
       "      <td>yes</td>\n",
       "    </tr>\n",
       "    <tr>\n",
       "      <th>8</th>\n",
       "      <td>hu_detatched</td>\n",
       "      <td>HUs 1 detached unit/struct</td>\n",
       "      <td>H0410001</td>\n",
       "      <td>NaN</td>\n",
       "      <td>NaN</td>\n",
       "      <td>H030002</td>\n",
       "      <td>NaN</td>\n",
       "      <td>B25024_002E</td>\n",
       "      <td>B25024_002E</td>\n",
       "      <td>yes</td>\n",
       "    </tr>\n",
       "    <tr>\n",
       "      <th>9</th>\n",
       "      <td>hu_attached</td>\n",
       "      <td>HUs 1 attached unit/struct</td>\n",
       "      <td>H0410002</td>\n",
       "      <td>NaN</td>\n",
       "      <td>NaN</td>\n",
       "      <td>H030003</td>\n",
       "      <td>NaN</td>\n",
       "      <td>B25024_003E</td>\n",
       "      <td>B25024_003E</td>\n",
       "      <td>NaN</td>\n",
       "    </tr>\n",
       "    <tr>\n",
       "      <th>10</th>\n",
       "      <td>hu_2</td>\n",
       "      <td>HUs 2 unit/struct</td>\n",
       "      <td>H0410003</td>\n",
       "      <td>NaN</td>\n",
       "      <td>NaN</td>\n",
       "      <td>H030004</td>\n",
       "      <td>NaN</td>\n",
       "      <td>B25024_004E</td>\n",
       "      <td>B25024_004E</td>\n",
       "      <td>yes</td>\n",
       "    </tr>\n",
       "    <tr>\n",
       "      <th>11</th>\n",
       "      <td>hu_3-4</td>\n",
       "      <td>HUs 3-4 unit/struct</td>\n",
       "      <td>H0410004</td>\n",
       "      <td>NaN</td>\n",
       "      <td>NaN</td>\n",
       "      <td>H030005</td>\n",
       "      <td>NaN</td>\n",
       "      <td>B25024_005E</td>\n",
       "      <td>B25024_005E</td>\n",
       "      <td>yes</td>\n",
       "    </tr>\n",
       "    <tr>\n",
       "      <th>12</th>\n",
       "      <td>hu_5-9</td>\n",
       "      <td>HUs 5-9 unit/struct</td>\n",
       "      <td>H0410005</td>\n",
       "      <td>NaN</td>\n",
       "      <td>NaN</td>\n",
       "      <td>H030006</td>\n",
       "      <td>NaN</td>\n",
       "      <td>B25024_006E</td>\n",
       "      <td>B25024_006E</td>\n",
       "      <td>yes</td>\n",
       "    </tr>\n",
       "    <tr>\n",
       "      <th>13</th>\n",
       "      <td>hu_10-19</td>\n",
       "      <td>HUs 10-19 unit/struct</td>\n",
       "      <td>H0410006</td>\n",
       "      <td>NaN</td>\n",
       "      <td>NaN</td>\n",
       "      <td>H030007</td>\n",
       "      <td>NaN</td>\n",
       "      <td>B25024_007E</td>\n",
       "      <td>B25024_007E</td>\n",
       "      <td>yes</td>\n",
       "    </tr>\n",
       "    <tr>\n",
       "      <th>14</th>\n",
       "      <td>hu_20-49</td>\n",
       "      <td>HUs 20-49 unit/struct</td>\n",
       "      <td>H0410007</td>\n",
       "      <td>NaN</td>\n",
       "      <td>NaN</td>\n",
       "      <td>H030008</td>\n",
       "      <td>NaN</td>\n",
       "      <td>B25024_008E</td>\n",
       "      <td>B25024_008E</td>\n",
       "      <td>yes</td>\n",
       "    </tr>\n",
       "    <tr>\n",
       "      <th>15</th>\n",
       "      <td>hu_50</td>\n",
       "      <td>HUs 50+ unit/struct</td>\n",
       "      <td>H0410008</td>\n",
       "      <td>NaN</td>\n",
       "      <td>NaN</td>\n",
       "      <td>H030009</td>\n",
       "      <td>NaN</td>\n",
       "      <td>B25024_009E</td>\n",
       "      <td>B25024_009E</td>\n",
       "      <td>yes</td>\n",
       "    </tr>\n",
       "    <tr>\n",
       "      <th>16</th>\n",
       "      <td>families</td>\n",
       "      <td>total families</td>\n",
       "      <td>P002001</td>\n",
       "      <td>NaN</td>\n",
       "      <td>P031001</td>\n",
       "      <td>NaN</td>\n",
       "      <td>P0350001</td>\n",
       "      <td>B25024_003E</td>\n",
       "      <td>NaN</td>\n",
       "      <td>yes</td>\n",
       "    </tr>\n",
       "    <tr>\n",
       "      <th>17</th>\n",
       "      <td>tot_hhs</td>\n",
       "      <td>total households</td>\n",
       "      <td>P003001</td>\n",
       "      <td>NaN</td>\n",
       "      <td>P015001</td>\n",
       "      <td>NaN</td>\n",
       "      <td>P0180001</td>\n",
       "      <td>B11001_001E</td>\n",
       "      <td>NaN</td>\n",
       "      <td>yes</td>\n",
       "    </tr>\n",
       "    <tr>\n",
       "      <th>18</th>\n",
       "      <td>tot_pop</td>\n",
       "      <td>total population</td>\n",
       "      <td>P0010001</td>\n",
       "      <td>NaN</td>\n",
       "      <td>P001001</td>\n",
       "      <td>NaN</td>\n",
       "      <td>P0010001</td>\n",
       "      <td>B01001_001E</td>\n",
       "      <td>NaN</td>\n",
       "      <td>yes</td>\n",
       "    </tr>\n",
       "    <tr>\n",
       "      <th>19</th>\n",
       "      <td>white</td>\n",
       "      <td>Non-Hispanic white alone</td>\n",
       "      <td>P0100001</td>\n",
       "      <td>NaN</td>\n",
       "      <td>P007002</td>\n",
       "      <td>NaN</td>\n",
       "      <td>P0050003</td>\n",
       "      <td>B03002_003E</td>\n",
       "      <td>NaN</td>\n",
       "      <td>yes</td>\n",
       "    </tr>\n",
       "    <tr>\n",
       "      <th>20</th>\n",
       "      <td>black</td>\n",
       "      <td>Non-Hispanic black alone</td>\n",
       "      <td>P0100002</td>\n",
       "      <td>NaN</td>\n",
       "      <td>P007003</td>\n",
       "      <td>NaN</td>\n",
       "      <td>P0050004</td>\n",
       "      <td>B03002_004E</td>\n",
       "      <td>NaN</td>\n",
       "      <td>yes</td>\n",
       "    </tr>\n",
       "    <tr>\n",
       "      <th>21</th>\n",
       "      <td>asian</td>\n",
       "      <td>Non-Hispanic asian alone</td>\n",
       "      <td>P0100004</td>\n",
       "      <td>NaN</td>\n",
       "      <td>P007004</td>\n",
       "      <td>NaN</td>\n",
       "      <td>P0050006</td>\n",
       "      <td>B03002_006E</td>\n",
       "      <td>NaN</td>\n",
       "      <td>yes</td>\n",
       "    </tr>\n",
       "    <tr>\n",
       "      <th>22</th>\n",
       "      <td>hispanic</td>\n",
       "      <td>Hispanic origin total persons</td>\n",
       "      <td>P0080001</td>\n",
       "      <td>NaN</td>\n",
       "      <td>P008010</td>\n",
       "      <td>NaN</td>\n",
       "      <td>P0040003</td>\n",
       "      <td>B03002_012E</td>\n",
       "      <td>NaN</td>\n",
       "      <td>yes</td>\n",
       "    </tr>\n",
       "    <tr>\n",
       "      <th>23</th>\n",
       "      <td>med_yr_built</td>\n",
       "      <td>median year structure built</td>\n",
       "      <td>NaN</td>\n",
       "      <td>H025A001</td>\n",
       "      <td>NaN</td>\n",
       "      <td>H035001</td>\n",
       "      <td>NaN</td>\n",
       "      <td>B25035_001E</td>\n",
       "      <td>B25035_001E</td>\n",
       "      <td>yes</td>\n",
       "    </tr>\n",
       "    <tr>\n",
       "      <th>24</th>\n",
       "      <td>foreign_born</td>\n",
       "      <td>foreign born pop</td>\n",
       "      <td>NaN</td>\n",
       "      <td>P0420009</td>\n",
       "      <td>NaN</td>\n",
       "      <td>P021013</td>\n",
       "      <td>NaN</td>\n",
       "      <td>B05002_013E</td>\n",
       "      <td>B05002_013E</td>\n",
       "      <td>yes</td>\n",
       "    </tr>\n",
       "    <tr>\n",
       "      <th>25</th>\n",
       "      <td>same_house_5</td>\n",
       "      <td>lived in same house 5 years ago</td>\n",
       "      <td>NaN</td>\n",
       "      <td>P0430001</td>\n",
       "      <td>NaN</td>\n",
       "      <td>P024002</td>\n",
       "      <td>NaN</td>\n",
       "      <td>NaN</td>\n",
       "      <td>NaN</td>\n",
       "      <td>NaN</td>\n",
       "    </tr>\n",
       "    <tr>\n",
       "      <th>26</th>\n",
       "      <td>same_house_1</td>\n",
       "      <td>lived in same house 1 year ago</td>\n",
       "      <td>NaN</td>\n",
       "      <td>NaN</td>\n",
       "      <td>NaN</td>\n",
       "      <td>NaN</td>\n",
       "      <td>NaN</td>\n",
       "      <td>B07001_017E</td>\n",
       "      <td>B07001_017E</td>\n",
       "      <td>NaN</td>\n",
       "    </tr>\n",
       "    <tr>\n",
       "      <th>27</th>\n",
       "      <td>moved_1989-90</td>\n",
       "      <td>YR HH MOVE INTO UNIT[6] 1989 to Mar 1990</td>\n",
       "      <td>NaN</td>\n",
       "      <td>H0280001</td>\n",
       "      <td>NaN</td>\n",
       "      <td>NaN</td>\n",
       "      <td>NaN</td>\n",
       "      <td>NaN</td>\n",
       "      <td>NaN</td>\n",
       "      <td>NaN</td>\n",
       "    </tr>\n",
       "    <tr>\n",
       "      <th>28</th>\n",
       "      <td>moved_1985-88</td>\n",
       "      <td>YR HH MOVE INTO UNIT[6] 1985 to 1988</td>\n",
       "      <td>NaN</td>\n",
       "      <td>H0280002</td>\n",
       "      <td>NaN</td>\n",
       "      <td>NaN</td>\n",
       "      <td>NaN</td>\n",
       "      <td>NaN</td>\n",
       "      <td>NaN</td>\n",
       "      <td>NaN</td>\n",
       "    </tr>\n",
       "    <tr>\n",
       "      <th>29</th>\n",
       "      <td>moved_1980-84</td>\n",
       "      <td>YR HH MOVE INTO UNIT[6] 1980 to 1984</td>\n",
       "      <td>NaN</td>\n",
       "      <td>H0280003</td>\n",
       "      <td>NaN</td>\n",
       "      <td>NaN</td>\n",
       "      <td>NaN</td>\n",
       "      <td>NaN</td>\n",
       "      <td>NaN</td>\n",
       "      <td>NaN</td>\n",
       "    </tr>\n",
       "    <tr>\n",
       "      <th>30</th>\n",
       "      <td>moved_1970-79</td>\n",
       "      <td>YR HH MOVE INTO UNIT[6] 1970 to 1979</td>\n",
       "      <td>NaN</td>\n",
       "      <td>H0280004</td>\n",
       "      <td>NaN</td>\n",
       "      <td>NaN</td>\n",
       "      <td>NaN</td>\n",
       "      <td>NaN</td>\n",
       "      <td>NaN</td>\n",
       "      <td>NaN</td>\n",
       "    </tr>\n",
       "    <tr>\n",
       "      <th>31</th>\n",
       "      <td>moved_1960-69</td>\n",
       "      <td>YR HH MOVE INTO UNIT[6] 1960 to 1969</td>\n",
       "      <td>NaN</td>\n",
       "      <td>H0280005</td>\n",
       "      <td>NaN</td>\n",
       "      <td>NaN</td>\n",
       "      <td>NaN</td>\n",
       "      <td>NaN</td>\n",
       "      <td>NaN</td>\n",
       "      <td>NaN</td>\n",
       "    </tr>\n",
       "    <tr>\n",
       "      <th>32</th>\n",
       "      <td>moved_1959</td>\n",
       "      <td>YR HH MOVE INTO UNIT[6] 1959 or earlier</td>\n",
       "      <td>NaN</td>\n",
       "      <td>H0280006</td>\n",
       "      <td>NaN</td>\n",
       "      <td>NaN</td>\n",
       "      <td>NaN</td>\n",
       "      <td>NaN</td>\n",
       "      <td>NaN</td>\n",
       "      <td>NaN</td>\n",
       "    </tr>\n",
       "    <tr>\n",
       "      <th>33</th>\n",
       "      <td>med_yr_moved_all</td>\n",
       "      <td>Median year householder moved into unit -- Tot...</td>\n",
       "      <td>NaN</td>\n",
       "      <td>NaN</td>\n",
       "      <td>NaN</td>\n",
       "      <td>H039001</td>\n",
       "      <td>NaN</td>\n",
       "      <td>B25039_001E</td>\n",
       "      <td>B25039_001E</td>\n",
       "      <td>yes</td>\n",
       "    </tr>\n",
       "    <tr>\n",
       "      <th>34</th>\n",
       "      <td>med_yr_moved_owner</td>\n",
       "      <td>Median year householder moved into unit -- Own...</td>\n",
       "      <td>NaN</td>\n",
       "      <td>NaN</td>\n",
       "      <td>NaN</td>\n",
       "      <td>H039002</td>\n",
       "      <td>NaN</td>\n",
       "      <td>B25039_002E</td>\n",
       "      <td>B25039_002E</td>\n",
       "      <td>yes</td>\n",
       "    </tr>\n",
       "    <tr>\n",
       "      <th>35</th>\n",
       "      <td>med_value</td>\n",
       "      <td>Median value Owner-occupied housing units</td>\n",
       "      <td>NaN</td>\n",
       "      <td>H061A001</td>\n",
       "      <td>NaN</td>\n",
       "      <td>H085001</td>\n",
       "      <td>NaN</td>\n",
       "      <td>B25077_001E</td>\n",
       "      <td>B25077_001E</td>\n",
       "      <td>yes</td>\n",
       "    </tr>\n",
       "    <tr>\n",
       "      <th>36</th>\n",
       "      <td>med_inc</td>\n",
       "      <td>Median household income</td>\n",
       "      <td>NaN</td>\n",
       "      <td>P080A001</td>\n",
       "      <td>NaN</td>\n",
       "      <td>P053001</td>\n",
       "      <td>NaN</td>\n",
       "      <td>B19013_001E</td>\n",
       "      <td>B19013_001E</td>\n",
       "      <td>yes</td>\n",
       "    </tr>\n",
       "    <tr>\n",
       "      <th>37</th>\n",
       "      <td>med_age</td>\n",
       "      <td>Median Age:both</td>\n",
       "      <td>NaN</td>\n",
       "      <td>NaN</td>\n",
       "      <td>P013001</td>\n",
       "      <td>NaN</td>\n",
       "      <td>P0130001</td>\n",
       "      <td>B01002_001E</td>\n",
       "      <td>NaN</td>\n",
       "      <td>yes</td>\n",
       "    </tr>\n",
       "  </tbody>\n",
       "</table>\n",
       "</div>"
      ],
      "text/plain": [
       "                  name                                        description  \\\n",
       "0    tot_pop_occ_units         total population in occupied housing units   \n",
       "1               tot_hu                                total housing units   \n",
       "2          avg_hh_size  average household size for occupied housing units   \n",
       "3               occ_hu                       occupation status - occupied   \n",
       "4             mortgage                       tenure - owned with mortgage   \n",
       "5              no_mort                      tenure - owned free and clear   \n",
       "6                owned                       owner-occupied housing units   \n",
       "7               rented                      renter-occupied housing units   \n",
       "8         hu_detatched                         HUs 1 detached unit/struct   \n",
       "9          hu_attached                         HUs 1 attached unit/struct   \n",
       "10                hu_2                                  HUs 2 unit/struct   \n",
       "11              hu_3-4                                HUs 3-4 unit/struct   \n",
       "12              hu_5-9                                HUs 5-9 unit/struct   \n",
       "13            hu_10-19                              HUs 10-19 unit/struct   \n",
       "14            hu_20-49                              HUs 20-49 unit/struct   \n",
       "15               hu_50                                HUs 50+ unit/struct   \n",
       "16            families                                     total families   \n",
       "17             tot_hhs                                   total households   \n",
       "18             tot_pop                                   total population   \n",
       "19               white                           Non-Hispanic white alone   \n",
       "20               black                           Non-Hispanic black alone   \n",
       "21               asian                           Non-Hispanic asian alone   \n",
       "22            hispanic                      Hispanic origin total persons   \n",
       "23        med_yr_built                        median year structure built   \n",
       "24        foreign_born                                   foreign born pop   \n",
       "25        same_house_5                    lived in same house 5 years ago   \n",
       "26        same_house_1                     lived in same house 1 year ago   \n",
       "27       moved_1989-90           YR HH MOVE INTO UNIT[6] 1989 to Mar 1990   \n",
       "28       moved_1985-88               YR HH MOVE INTO UNIT[6] 1985 to 1988   \n",
       "29       moved_1980-84               YR HH MOVE INTO UNIT[6] 1980 to 1984   \n",
       "30       moved_1970-79               YR HH MOVE INTO UNIT[6] 1970 to 1979   \n",
       "31       moved_1960-69               YR HH MOVE INTO UNIT[6] 1960 to 1969   \n",
       "32          moved_1959            YR HH MOVE INTO UNIT[6] 1959 or earlier   \n",
       "33    med_yr_moved_all  Median year householder moved into unit -- Tot...   \n",
       "34  med_yr_moved_owner  Median year householder moved into unit -- Own...   \n",
       "35           med_value          Median value Owner-occupied housing units   \n",
       "36             med_inc                            Median household income   \n",
       "37             med_age                                    Median Age:both   \n",
       "\n",
       "    1990_sf1  1990_sf3 2000_sf1 2000_sf3   2010_sf1         acs5    2012_acs5  \\\n",
       "0        NaN       NaN  H010001      NaN   H0100001  B25026_001E          NaN   \n",
       "1   H0010001       NaN  H001001      NaN  H00010001  B25034_001E          NaN   \n",
       "2        NaN       NaN  H012001      NaN   H0120001  B25010_001E          NaN   \n",
       "3   H0020001       NaN  H003002      NaN   H0030002  B25002_002E          NaN   \n",
       "4        NaN       NaN      NaN  H080002   H0040002  B25027_002E          NaN   \n",
       "5        NaN       NaN      NaN  H080008   H0040003  B25027_010E          NaN   \n",
       "6   H0030001       NaN  H004002      NaN        NaN  B25036_002E  B25036_002E   \n",
       "7   H0030002       NaN  H004003      NaN   H0040004  B25036_012E          NaN   \n",
       "8   H0410001       NaN      NaN  H030002        NaN  B25024_002E  B25024_002E   \n",
       "9   H0410002       NaN      NaN  H030003        NaN  B25024_003E  B25024_003E   \n",
       "10  H0410003       NaN      NaN  H030004        NaN  B25024_004E  B25024_004E   \n",
       "11  H0410004       NaN      NaN  H030005        NaN  B25024_005E  B25024_005E   \n",
       "12  H0410005       NaN      NaN  H030006        NaN  B25024_006E  B25024_006E   \n",
       "13  H0410006       NaN      NaN  H030007        NaN  B25024_007E  B25024_007E   \n",
       "14  H0410007       NaN      NaN  H030008        NaN  B25024_008E  B25024_008E   \n",
       "15  H0410008       NaN      NaN  H030009        NaN  B25024_009E  B25024_009E   \n",
       "16   P002001       NaN  P031001      NaN   P0350001  B25024_003E          NaN   \n",
       "17   P003001       NaN  P015001      NaN   P0180001  B11001_001E          NaN   \n",
       "18  P0010001       NaN  P001001      NaN   P0010001  B01001_001E          NaN   \n",
       "19  P0100001       NaN  P007002      NaN   P0050003  B03002_003E          NaN   \n",
       "20  P0100002       NaN  P007003      NaN   P0050004  B03002_004E          NaN   \n",
       "21  P0100004       NaN  P007004      NaN   P0050006  B03002_006E          NaN   \n",
       "22  P0080001       NaN  P008010      NaN   P0040003  B03002_012E          NaN   \n",
       "23       NaN  H025A001      NaN  H035001        NaN  B25035_001E  B25035_001E   \n",
       "24       NaN  P0420009      NaN  P021013        NaN  B05002_013E  B05002_013E   \n",
       "25       NaN  P0430001      NaN  P024002        NaN          NaN          NaN   \n",
       "26       NaN       NaN      NaN      NaN        NaN  B07001_017E  B07001_017E   \n",
       "27       NaN  H0280001      NaN      NaN        NaN          NaN          NaN   \n",
       "28       NaN  H0280002      NaN      NaN        NaN          NaN          NaN   \n",
       "29       NaN  H0280003      NaN      NaN        NaN          NaN          NaN   \n",
       "30       NaN  H0280004      NaN      NaN        NaN          NaN          NaN   \n",
       "31       NaN  H0280005      NaN      NaN        NaN          NaN          NaN   \n",
       "32       NaN  H0280006      NaN      NaN        NaN          NaN          NaN   \n",
       "33       NaN       NaN      NaN  H039001        NaN  B25039_001E  B25039_001E   \n",
       "34       NaN       NaN      NaN  H039002        NaN  B25039_002E  B25039_002E   \n",
       "35       NaN  H061A001      NaN  H085001        NaN  B25077_001E  B25077_001E   \n",
       "36       NaN  P080A001      NaN  P053001        NaN  B19013_001E  B19013_001E   \n",
       "37       NaN       NaN  P013001      NaN   P0130001  B01002_001E          NaN   \n",
       "\n",
       "   use_in_final  \n",
       "0           NaN  \n",
       "1           yes  \n",
       "2           NaN  \n",
       "3           yes  \n",
       "4           NaN  \n",
       "5           NaN  \n",
       "6           yes  \n",
       "7           yes  \n",
       "8           yes  \n",
       "9           NaN  \n",
       "10          yes  \n",
       "11          yes  \n",
       "12          yes  \n",
       "13          yes  \n",
       "14          yes  \n",
       "15          yes  \n",
       "16          yes  \n",
       "17          yes  \n",
       "18          yes  \n",
       "19          yes  \n",
       "20          yes  \n",
       "21          yes  \n",
       "22          yes  \n",
       "23          yes  \n",
       "24          yes  \n",
       "25          NaN  \n",
       "26          NaN  \n",
       "27          NaN  \n",
       "28          NaN  \n",
       "29          NaN  \n",
       "30          NaN  \n",
       "31          NaN  \n",
       "32          NaN  \n",
       "33          yes  \n",
       "34          yes  \n",
       "35          yes  \n",
       "36          yes  \n",
       "37          yes  "
      ]
     },
     "execution_count": 42,
     "metadata": {},
     "output_type": "execute_result"
    }
   ],
   "source": [
    "# I will use years 1990, 2000, 2010, 2005-2009, 2011-2014\n",
    "# TODO: might have to add ACS 2008-2012 in order to get housing unit variables for 2010. \n",
    "# I prepared the variables I want in an excel file. \n",
    "# note age variables are separate; can add them later if needed. \n",
    "filename='variable_codes.xlsx'\n",
    "vars_df = pd.read_excel(filename)\n",
    "vars_df"
   ]
  },
  {
   "cell_type": "code",
   "execution_count": 43,
   "metadata": {
    "collapsed": false
   },
   "outputs": [],
   "source": [
    "var_names = list(vars_df.name)"
   ]
  },
  {
   "cell_type": "markdown",
   "metadata": {},
   "source": [
    "Make a nice dictionary to hold the variables names and definitions. \n",
    "The structure will be this: \n",
    "\n",
    "data = year > dataset > [var name : var code]"
   ]
  },
  {
   "cell_type": "code",
   "execution_count": 44,
   "metadata": {
    "collapsed": false
   },
   "outputs": [
    {
     "data": {
      "text/plain": [
       "{'1990': None,\n",
       " '2000': None,\n",
       " '2009': None,\n",
       " '2010': None,\n",
       " '2012': None,\n",
       " '2014': None}"
      ]
     },
     "execution_count": 44,
     "metadata": {},
     "output_type": "execute_result"
    }
   ],
   "source": [
    "years = ['1990','2000','2010','2009','2012','2014']\n",
    "my_vars = dict.fromkeys(years)\n",
    "my_vars"
   ]
  },
  {
   "cell_type": "code",
   "execution_count": 45,
   "metadata": {
    "collapsed": true
   },
   "outputs": [],
   "source": [
    "# notice the datasets are different for each year so it's not really possible to make this shorter.\n",
    "for yr in ['1990','2000']:\n",
    "    my_vars[yr] = dict.fromkeys(['sf1','sf3'])\n",
    "    for sf in my_vars[yr].keys():\n",
    "        code_list = list(vars_df[pd.notnull(vars_df[yr+'_'+sf])][yr+'_'+sf])\n",
    "        name_list = list(vars_df[pd.notnull(vars_df[yr+'_'+sf])]['name'])\n",
    "        my_vars[yr][sf]=dict(zip(name_list, code_list))\n",
    "\n",
    "yr='2010'\n",
    "sf='sf1'\n",
    "code_list = list(vars_df[pd.notnull(vars_df[yr+'_'+sf])][yr+'_'+sf])\n",
    "name_list = list(vars_df[pd.notnull(vars_df[yr+'_'+sf])]['name'])\n",
    "my_vars[yr]={sf:dict(zip(name_list, code_list))}\n",
    "\n",
    "for yr in ['2009','2014']:\n",
    "    ds='acs5'\n",
    "    code_list = list(vars_df[pd.notnull(vars_df[ds])][ds])\n",
    "    name_list = list(vars_df[pd.notnull(vars_df[ds])]['name'])\n",
    "    my_vars[yr]={ds:dict(zip(name_list, code_list))}\n",
    "    "
   ]
  },
  {
   "cell_type": "code",
   "execution_count": 46,
   "metadata": {
    "collapsed": false
   },
   "outputs": [
    {
     "name": "stdout",
     "output_type": "stream",
     "text": [
      "{'acs5': {'asian': 'B03002_006E',\n",
      "          'avg_hh_size': 'B25010_001E',\n",
      "          'black': 'B03002_004E',\n",
      "          'families': 'B25024_003E',\n",
      "          'foreign_born': 'B05002_013E',\n",
      "          'hispanic': 'B03002_012E',\n",
      "          'hu_10-19': 'B25024_007E',\n",
      "          'hu_2': 'B25024_004E',\n",
      "          'hu_20-49': 'B25024_008E',\n",
      "          'hu_3-4': 'B25024_005E',\n",
      "          'hu_5-9': 'B25024_006E',\n",
      "          'hu_50': 'B25024_009E',\n",
      "          'hu_attached': 'B25024_003E',\n",
      "          'hu_detatched': 'B25024_002E',\n",
      "          'med_age': 'B01002_001E',\n",
      "          'med_inc': 'B19013_001E',\n",
      "          'med_value': 'B25077_001E',\n",
      "          'med_yr_built': 'B25035_001E',\n",
      "          'med_yr_moved_all': 'B25039_001E',\n",
      "          'med_yr_moved_owner': 'B25039_002E',\n",
      "          'mortgage': 'B25027_002E',\n",
      "          'no_mort': 'B25027_010E',\n",
      "          'occ_hu': 'B25002_002E',\n",
      "          'owned': 'B25036_002E',\n",
      "          'rented': 'B25036_012E',\n",
      "          'same_house_1': 'B07001_017E',\n",
      "          'tot_hhs': 'B11001_001E',\n",
      "          'tot_hu': 'B25034_001E',\n",
      "          'tot_pop': 'B01001_001E',\n",
      "          'tot_pop_occ_units': 'B25026_001E',\n",
      "          'white': 'B03002_003E'}}\n"
     ]
    }
   ],
   "source": [
    "# test cell\n",
    "pprint(my_vars['2014'])"
   ]
  },
  {
   "cell_type": "code",
   "execution_count": 47,
   "metadata": {
    "collapsed": false
   },
   "outputs": [
    {
     "name": "stdout",
     "output_type": "stream",
     "text": [
      "{'2012_acs5': {'foreign_born': 'B05002_013E',\n",
      "               'hu_10-19': 'B25024_007E',\n",
      "               'hu_2': 'B25024_004E',\n",
      "               'hu_20-49': 'B25024_008E',\n",
      "               'hu_3-4': 'B25024_005E',\n",
      "               'hu_5-9': 'B25024_006E',\n",
      "               'hu_50': 'B25024_009E',\n",
      "               'hu_attached': 'B25024_003E',\n",
      "               'hu_detatched': 'B25024_002E',\n",
      "               'med_inc': 'B19013_001E',\n",
      "               'med_value': 'B25077_001E',\n",
      "               'med_yr_built': 'B25035_001E',\n",
      "               'med_yr_moved_all': 'B25039_001E',\n",
      "               'med_yr_moved_owner': 'B25039_002E',\n",
      "               'owned': 'B25036_002E',\n",
      "               'same_house_1': 'B07001_017E'}}\n"
     ]
    }
   ],
   "source": [
    "# year 2012 is weird, only need the housing unit variables, which are contained in ACS. Everything else is in the census.\n",
    "yr='2012'\n",
    "ds='2012_acs5'\n",
    "code_list = list(vars_df[pd.notnull(vars_df[ds])][ds])\n",
    "name_list = list(vars_df[pd.notnull(vars_df[ds])]['name'])\n",
    "my_vars[yr]={ds:dict(zip(name_list, code_list))}\n",
    "pprint(my_vars['2012'])"
   ]
  },
  {
   "cell_type": "markdown",
   "metadata": {},
   "source": [
    "## Define geographies"
   ]
  },
  {
   "cell_type": "markdown",
   "metadata": {},
   "source": [
    "This will use the block group level.\n",
    "\n",
    "I made a list of all the block groups in SF. \n"
   ]
  },
  {
   "cell_type": "code",
   "execution_count": 48,
   "metadata": {
    "collapsed": false
   },
   "outputs": [
    {
     "data": {
      "text/html": [
       "<div>\n",
       "<table border=\"1\" class=\"dataframe\">\n",
       "  <thead>\n",
       "    <tr style=\"text-align: right;\">\n",
       "      <th></th>\n",
       "      <th>GEO.id2</th>\n",
       "      <th>GEO.display-label</th>\n",
       "    </tr>\n",
       "  </thead>\n",
       "  <tbody>\n",
       "    <tr>\n",
       "      <th>0</th>\n",
       "      <td>6075010100</td>\n",
       "      <td>Census Tract 101, San Francisco County, Califo...</td>\n",
       "    </tr>\n",
       "    <tr>\n",
       "      <th>1</th>\n",
       "      <td>6075010200</td>\n",
       "      <td>Census Tract 102, San Francisco County, Califo...</td>\n",
       "    </tr>\n",
       "    <tr>\n",
       "      <th>2</th>\n",
       "      <td>6075010300</td>\n",
       "      <td>Census Tract 103, San Francisco County, Califo...</td>\n",
       "    </tr>\n",
       "    <tr>\n",
       "      <th>3</th>\n",
       "      <td>6075010400</td>\n",
       "      <td>Census Tract 104, San Francisco County, Califo...</td>\n",
       "    </tr>\n",
       "    <tr>\n",
       "      <th>4</th>\n",
       "      <td>6075010500</td>\n",
       "      <td>Census Tract 105, San Francisco County, Califo...</td>\n",
       "    </tr>\n",
       "  </tbody>\n",
       "</table>\n",
       "</div>"
      ],
      "text/plain": [
       "      GEO.id2                                  GEO.display-label\n",
       "0  6075010100  Census Tract 101, San Francisco County, Califo...\n",
       "1  6075010200  Census Tract 102, San Francisco County, Califo...\n",
       "2  6075010300  Census Tract 103, San Francisco County, Califo...\n",
       "3  6075010400  Census Tract 104, San Francisco County, Califo...\n",
       "4  6075010500  Census Tract 105, San Francisco County, Califo..."
      ]
     },
     "execution_count": 48,
     "metadata": {},
     "output_type": "execute_result"
    }
   ],
   "source": [
    "tr00 = pd.read_csv('DEC_00_SF1_sftracts.csv', dtype=str)\n",
    "tr10 = pd.read_csv('DEC_10_SF1_sftracts.csv', dtype=str)\n",
    "tr14 = pd.read_csv('ACS_14_5YR_sftracts.csv',dtype=str)\n",
    "tr14.head()\n"
   ]
  },
  {
   "cell_type": "code",
   "execution_count": 49,
   "metadata": {
    "collapsed": false,
    "scrolled": false
   },
   "outputs": [],
   "source": [
    "# what we need for the requests is a list of tracts (won't use bg's until later. )\n",
    "\n",
    "\n",
    "tracts00 = [s[4:] for s in (list(tr00['GEO.id2']))]\n",
    "tracts10 = [s[4:] for s in (list(tr10['GEO.id2']))]\n",
    "tracts14 = [s[4:] for s in (list(tr14['GEO.id2']))]\n",
    "tracts90 = []  # need to add 1990 bgs later. \n",
    "\n",
    "\n",
    "tracts_by_year = {'1990':tracts90, '2000':tracts00, '2010':tracts10, '2009':tracts00, '2014':tracts14,'2012':tracts14}\n",
    "\n",
    "#tracts_by_year['2010']\n"
   ]
  },
  {
   "cell_type": "markdown",
   "metadata": {},
   "source": [
    "## Get data"
   ]
  },
  {
   "cell_type": "code",
   "execution_count": 50,
   "metadata": {
    "collapsed": true
   },
   "outputs": [],
   "source": [
    "# Census 2010 example\n",
    "#http://api.census.gov/data/2010/sf1?get=P0010001,P0030001&for=block+group:1&in=state:02+county:170+tract:000101&key=YOUR_KEY_GOES_HERE\n",
    "# ACS example\n",
    "#http://api.census.gov/data/2014/acs5?get=NAME,B01001_001E&for=block+group:0&in=state:06+county:061+tract:990000&key=YOUR_KEY_GOES_HERE\n"
   ]
  },
  {
   "cell_type": "code",
   "execution_count": 51,
   "metadata": {
    "collapsed": false
   },
   "outputs": [
    {
     "data": {
      "text/plain": [
       "'B25024_003E,B03002_006E,B25039_001E,B03002_012E,B25027_002E,B19013_001E,B01002_001E,B25024_008E,B25035_001E,B25026_001E,B25024_007E,B03002_003E,B05002_013E,B25024_005E,B25077_001E,B07001_017E,B25034_001E,B25002_002E,B25024_009E,B25024_003E,B03002_004E,B25024_004E,B25039_002E,B25024_002E,B25036_012E,B11001_001E,B25010_001E,B01001_001E,B25027_010E,B25036_002E,B25024_006E'"
      ]
     },
     "execution_count": 51,
     "metadata": {},
     "output_type": "execute_result"
    }
   ],
   "source": [
    "\n",
    "def make_var_string(year='2010', dataset='sf1',var_dict=my_vars):\n",
    "    var_list = list(var_dict[year][dataset].values())\n",
    "    v_str = ''\n",
    "    for var in var_list: \n",
    "        v_str= v_str+var+','\n",
    "    return(v_str.rstrip(','))\n",
    "\n",
    "var_string = make_var_string(year='2009', dataset='acs5')\n",
    "var_string"
   ]
  },
  {
   "cell_type": "code",
   "execution_count": 52,
   "metadata": {
    "collapsed": false
   },
   "outputs": [
    {
     "data": {
      "text/plain": [
       "'http://api.census.gov/data/2012/acs5?get=B25077_001E,B25024_003E,B07001_017E,B25024_008E,B25024_009E,B19013_001E,B25035_001E,B25024_004E,B25039_002E,B25024_002E,B25024_005E,B25039_001E,B25036_002E,B25024_007E,B05002_013E,B25024_006E&for=block+group:*&in=state:06+county:075+tract:600200&key=77393a88b95432a421e17611c44b7b24fee721cf'"
      ]
     },
     "execution_count": 52,
     "metadata": {},
     "output_type": "execute_result"
    }
   ],
   "source": [
    "# prepare parameters\n",
    "key = '77393a88b95432a421e17611c44b7b24fee721cf'\n",
    "\n",
    "#var_string = 'P0010001,P0030001'  # an example to test\n",
    "tract = '600200'  # just an example\n",
    "\n",
    "def make_url(year, dataset,bg='*',state='06',county='075',tract=tract,key=key):\n",
    "\n",
    "    var_string = make_var_string(year, dataset)\n",
    "    if year=='2012':\n",
    "        dataset='acs5'\n",
    "    geog='state:{}+county:{}+tract:{}'.format(state,county,tract)\n",
    "    #params = {'for':'*','in':geog,'key':key}\n",
    "    url = 'http://api.census.gov/data/{yr}/{ds}?get={v}&for=block+group:{b}&in={geo}&key={k}'.format(yr=year, ds=dataset,v=var_string,b=bg, geo=geog,k=key)\n",
    "    return url\n",
    "\n",
    "url = make_url(year='2012',dataset='2012_acs5',tract=tract)\n",
    "url\n",
    "\n",
    "#test\n",
    "#http://api.census.gov/data/2009/acs5?get=B01001H_001E&for=block+group:*&in=state:06+county:075+tract:600200&key=77393a88b95432a421e17611c44b7b24fee721cf\n",
    "\n"
   ]
  },
  {
   "cell_type": "code",
   "execution_count": 53,
   "metadata": {
    "collapsed": false
   },
   "outputs": [
    {
     "name": "stdout",
     "output_type": "stream",
     "text": [
      "http://api.census.gov/data/2014/acs5?get=B25036_002E,B25024_003E,B05002_013E,B03002_012E,B25035_001E,B25024_004E,B03002_004E,B25039_002E,B25034_001E,B07001_017E,B25024_002E,B25010_001E,B19013_001E,B01001H_001E,B25039_001E,B25024_005E,B25002_002E,B25024_006E,B25036_012E,B25027_002E,B25024_007E,B01002_001E,B25027_010E,B25024_003E,B25026_001E,B03002_003E,B11001_001E,B25024_008E,B03002_006E,B25077_001E,B25024_009E&for=block+group:*&in=state:06+county:075+tract:20300&key=77393a88b95432a421e17611c44b7b24fee721cf\n",
      "2.747545316000469\n",
      "['B25036_002E', 'B25024_003E', 'B05002_013E', 'B03002_012E', 'B25035_001E', 'B25024_004E', 'B03002_004E', 'B25039_002E', 'B25034_001E', 'B07001_017E', 'B25024_002E', 'B25010_001E', 'B19013_001E', 'B01001H_001E', 'B25039_001E', 'B25024_005E', 'B25002_002E', 'B25024_006E', 'B25036_012E', 'B25027_002E', 'B25024_007E', 'B01002_001E', 'B25027_010E', 'B25024_003E', 'B25026_001E', 'B03002_003E', 'B11001_001E', 'B25024_008E', 'B03002_006E', 'B25077_001E', 'B25024_009E', 'state', 'county', 'tract', 'block group']     0   1     2    3     4    5   6     7    8     9  ...   25   26  27   28  \\\n",
      "0  235  60  None  114  1939   93  41  1997  768  None ...  639  670  78  263   \n",
      "1  117  11  None   85  1939  109   0  2003  415  None ...  552  387   0   55   \n",
      "2  169  12  None  248  1939   66  10  2003  630  None ...  793  591  58   62   \n",
      "\n",
      "       29   30  31   32      33 34  \n",
      "0  782200  126  06  075  020300  1  \n",
      "1  968800    0  06  075  020300  2  \n",
      "2  767600    0  06  075  020300  3  \n",
      "\n",
      "[3 rows x 35 columns]\n"
     ]
    }
   ],
   "source": [
    "# time the request\n",
    "start = timer()\n",
    "url='http://api.census.gov/data/2014/acs5?get=B25036_002E,B25024_003E,B05002_013E,B03002_012E,B25035_001E,B25024_004E,B03002_004E,B25039_002E,B25034_001E,B07001_017E,B25024_002E,B25010_001E,B19013_001E,B01001H_001E,B25039_001E,B25024_005E,B25002_002E,B25024_006E,B25036_012E,B25027_002E,B25024_007E,B01002_001E,B25027_010E,B25024_003E,B25026_001E,B03002_003E,B11001_001E,B25024_008E,B03002_006E,B25077_001E,B25024_009E&for=block+group:*&in=state:06+county:075+tract:20300&key=77393a88b95432a421e17611c44b7b24fee721cf'\n",
    "r = requests.get(url)\n",
    "end = timer()\n",
    "print(r.url)\n",
    "print(end - start)    \n",
    "\n",
    "\n",
    "results = r.json()\n",
    "labels = results[0]\n",
    "tract_data=pd.DataFrame(results[1:])\n",
    "print(labels,tract_data)\n",
    "\n",
    "  "
   ]
  },
  {
   "cell_type": "code",
   "execution_count": 54,
   "metadata": {
    "collapsed": false,
    "scrolled": false
   },
   "outputs": [
    {
     "name": "stdout",
     "output_type": "stream",
     "text": [
      "2014 acs5\n",
      "2012 2012_acs5\n",
      "2009 acs5\n"
     ]
    }
   ],
   "source": [
    "\n",
    "# for each year, for each dataset, for each tract\n",
    "#years = ['2014','2012','2010','2009','2000']\n",
    "years = ['2014','2012','2009']\n",
    "full_data = dict.fromkeys(years)\n",
    "\n",
    "for yr in years:\n",
    "    full_data[yr] = {}\n",
    "    for ds in my_vars[yr].keys():\n",
    "\n",
    "        print(yr, ds)\n",
    "        data = pd.DataFrame()\n",
    "        for tract in tracts_by_year[yr]:\n",
    "            url = make_url(year=yr, dataset=ds, tract=tract)\n",
    "            #print(url)\n",
    "            r = requests.get(url)\n",
    "            #print(tract, r.status_code)\n",
    "            \n",
    "            results = r.json()\n",
    "            # keep column labels to match them up with variable names \n",
    "            labels = results[0]\n",
    "            # separate data from labels so can loop through tracts. \n",
    "            tract_data=pd.DataFrame(results[1:])\n",
    "            data = pd.concat([data,tract_data])\n",
    "        data.columns = labels\n",
    "        full_data[yr][ds] = data\n"
   ]
  },
  {
   "cell_type": "code",
   "execution_count": 55,
   "metadata": {
    "collapsed": false
   },
   "outputs": [],
   "source": [
    "# match variable names to labels so they are easier to read. \n",
    "# names are stored in my_vars\n",
    "for yr in full_data.keys():\n",
    "    for ds in full_data[yr].keys():\n",
    "        df = full_data[yr][ds]\n",
    "        rev_vars = dict((v,k) for k,v in my_vars[yr][ds].items())  # have to reverse lookup in dictionary\n",
    "        new_cols = []\n",
    "        for col in df.columns:\n",
    "            if col[0] in ['P','H','B']:   # only rename variables\n",
    "                new_name = rev_vars[col]\n",
    "                new_cols.append(new_name)\n",
    "            else:\n",
    "                new_cols.append(col)   # tract, bg names remain the same. \n",
    "        df.columns = new_cols\n",
    "        full_data[yr][ds] = df"
   ]
  },
  {
   "cell_type": "code",
   "execution_count": 56,
   "metadata": {
    "collapsed": false
   },
   "outputs": [
    {
     "name": "stdout",
     "output_type": "stream",
     "text": [
      "581\n",
      "575\n",
      "581\n"
     ]
    }
   ],
   "source": [
    "# save each dataset as csv file. \n",
    "for yr in full_data.keys():\n",
    "    for ds in full_data[yr].keys():\n",
    "        df = full_data[yr][ds]\n",
    "        print(len(df))  # check length\n",
    "        fname = 'census_data_{}_{}.csv'.format(yr,ds)\n",
    "        df.to_csv(fname, index=False)"
   ]
  },
  {
   "cell_type": "markdown",
   "metadata": {},
   "source": [
    "## Some more processing, after we've gotten the data"
   ]
  },
  {
   "cell_type": "code",
   "execution_count": 68,
   "metadata": {
    "collapsed": true
   },
   "outputs": [],
   "source": [
    "# actually we really just want a set for each year. \n",
    "# and we need to use percentages for the explanatory variables, not totals\n",
    "\n",
    "# To prepare for merging, construct GEOID column. \n",
    "# Construct geoid. format: '060750157003'\n",
    "def make_geoid_field(df):\n",
    "    df['geoid'] = df['state']+df['county']+df['tract']+df['block group']\n",
    "    return df\n",
    "\n",
    "\n",
    "    "
   ]
  },
  {
   "cell_type": "code",
   "execution_count": 69,
   "metadata": {
    "collapsed": true
   },
   "outputs": [],
   "source": [
    "# function to calculate percentages for each variable. \n",
    "def calc_percentages(df):\n",
    "    # denominator depends on the variable\n",
    "    hh_vars = ['families','same_house_5','foreign_born','same_house_1']  #/'tot_hhs',\n",
    "    hu_vars =['owned','occ_hu','rented','hu_attached','hu_5-9','hu_3-4','hu_2','mortgage','hu_10-19','no_mort','hu_detatched','hu_20-49','hu_50'] # / 'tot_hu',\n",
    "    pop_vars =['hispanic','asian','black','white','tot_pop_occ_units']  #  /'tot_pop'\n",
    "    \n",
    "    for col in df.columns: \n",
    "        #new_name = col+'_pct'\n",
    "        if col in hh_vars:\n",
    "            df[col] = df[col]/df.tot_hhs\n",
    "        elif col in hu_vars: \n",
    "            df[col] = df[col]/df.tot_hu\n",
    "        elif col in pop_vars: \n",
    "            df[col] = df[col]/df.tot_pop\n",
    "    # drop originals \n",
    "    #cols_to_drop = hh_vars+hu_vars+pop_vars\n",
    "    #df_new = df.drop(cols_to_drop, axis=1)\n",
    "    return(df)\n",
    "        "
   ]
  },
  {
   "cell_type": "code",
   "execution_count": 70,
   "metadata": {
    "collapsed": false
   },
   "outputs": [],
   "source": [
    "# combine df_2000 data.\n",
    "df_2000_sf1 = pd.read_csv('census_data_2000_sf1.csv', dtype={'state':str,'county':str,'tract':str,'block group':str})\n",
    "df_2000_sf3 = pd.read_csv('census_data_2000_sf3.csv', dtype={'state':str,'county':str,'tract':str,'block group':str})"
   ]
  },
  {
   "cell_type": "code",
   "execution_count": 71,
   "metadata": {
    "collapsed": false
   },
   "outputs": [
    {
     "data": {
      "text/plain": [
       "Index(['owned', 'hispanic', 'occ_hu', 'rented', 'asian', 'black', 'tot_hu',\n",
       "       'med_age', 'families', 'tot_pop_occ_units', 'white', 'tot_hhs',\n",
       "       'avg_hh_size', 'tot_pop', 'state', 'county', 'tract', 'block group',\n",
       "       'geoid', 'same_house_5', 'med_yr_moved_all', 'hu_attached', 'hu_5-9',\n",
       "       'hu_3-4', 'med_inc', 'hu_2', 'mortgage', 'hu_10-19',\n",
       "       'med_yr_moved_owner', 'foreign_born', 'no_mort', 'hu_detatched',\n",
       "       'med_yr_built', 'hu_20-49', 'med_value', 'hu_50'],\n",
       "      dtype='object')"
      ]
     },
     "execution_count": 71,
     "metadata": {},
     "output_type": "execute_result"
    }
   ],
   "source": [
    "# for 2000: \n",
    "df_2000_sf1 = make_geoid_field(df_2000_sf1)\n",
    "df_2000_sf3 = make_geoid_field(df_2000_sf3)\n",
    "df_2000_sf1.head()\n",
    "df_2000_sf3.head()\n",
    "\n",
    "df_2000_sf1.columns\n",
    "\n",
    "# merge on geoid\n",
    "df_2000_sf3.drop(['state','county','tract','block group'],axis=1, inplace=True)  # drop duplicate cols\n",
    "df_2000 = pd.merge(df_2000_sf1, df_2000_sf3, on='geoid')\n",
    "df_2000.columns\n"
   ]
  },
  {
   "cell_type": "code",
   "execution_count": 72,
   "metadata": {
    "collapsed": false
   },
   "outputs": [
    {
     "data": {
      "text/plain": [
       "Index(['hispanic', 'occ_hu', 'rented', 'asian', 'mortgage', 'black', 'tot_hu',\n",
       "       'med_age', 'no_mort', 'families', 'tot_pop_occ_units', 'white',\n",
       "       'tot_hhs', 'avg_hh_size', 'tot_pop', 'state', 'county', 'tract',\n",
       "       'block group', 'geoid', 'med_value', 'hu_attached', 'same_house_1',\n",
       "       'hu_20-49', 'hu_50', 'med_inc', 'med_yr_built', 'hu_2',\n",
       "       'med_yr_moved_owner', 'hu_detatched', 'hu_3-4', 'med_yr_moved_all',\n",
       "       'owned', 'hu_10-19', 'foreign_born', 'hu_5-9'],\n",
       "      dtype='object')"
      ]
     },
     "execution_count": 72,
     "metadata": {},
     "output_type": "execute_result"
    }
   ],
   "source": [
    "# combine 2010 and 2012 acs\n",
    "df_2012_acs = pd.read_csv('census_data_2012_2012_acs5.csv', dtype={'state':str,'county':str,'tract':str,'block group':str})\n",
    "df_2010_sf1 = pd.read_csv('census_data_2010_sf1.csv', dtype={'state':str,'county':str,'tract':str,'block group':str})\n",
    "df_2012_acs = make_geoid_field(df_2012_acs)\n",
    "df_2010_sf1 = make_geoid_field(df_2010_sf1)\n",
    "\n",
    "\n",
    "# merge on geoid\n",
    "df_2012_acs.drop(['state','county','tract','block group'],axis=1, inplace=True)  # drop duplicate cols\n",
    "df_2010 = pd.merge(df_2010_sf1, df_2012_acs, on='geoid')\n",
    "df_2010.columns"
   ]
  },
  {
   "cell_type": "code",
   "execution_count": 73,
   "metadata": {
    "collapsed": false
   },
   "outputs": [],
   "source": [
    "df_2009_acs = pd.read_csv('census_data_2009_acs5.csv',dtype={'state':str,'county':str,'tract':str,'block group':str})\n",
    "df_2014_acs = pd.read_csv('census_data_2014_acs5.csv',dtype={'state':str,'county':str,'tract':str,'block group':str})\n",
    "#print(df_2009_acs.columns)\n",
    "#print(df_2014_acs.columns)\n",
    "#df_2014_acs['tot_pop'].head()\n"
   ]
  },
  {
   "cell_type": "code",
   "execution_count": 74,
   "metadata": {
    "collapsed": false
   },
   "outputs": [],
   "source": [
    "# turn variables into percentages\n",
    "df_2000_new = calc_percentages(df_2000)\n",
    "df_2010_new = calc_percentages(df_2010)\n",
    "df_2009_new = calc_percentages(df_2009_acs)\n",
    "df_2014_new = calc_percentages(df_2014_acs)"
   ]
  },
  {
   "cell_type": "code",
   "execution_count": 75,
   "metadata": {
    "collapsed": false
   },
   "outputs": [],
   "source": [
    "df_2010_new.to_csv('census_data_2010.csv', index=False)\n",
    "df_2000_new.to_csv('census_data_2000.csv', index=False)\n",
    "\n",
    "\n",
    "# rename ACS data files so the year is the middle year, not the end year\n",
    "df_2009_new.to_csv('census_data_2007.csv', index=False)\n",
    "df_2014_new.to_csv('census_data_2012.csv', index=False)"
   ]
  },
  {
   "cell_type": "code",
   "execution_count": 67,
   "metadata": {
    "collapsed": false
   },
   "outputs": [
    {
     "data": {
      "text/plain": [
       "'census_data_2012.csv'"
      ]
     },
     "execution_count": 67,
     "metadata": {},
     "output_type": "execute_result"
    }
   ],
   "source": [
    "# Don't need this anymore\n",
    "# rename ACS data files so the year is the middle year, not the end year\n",
    "#\n",
    "#from shutil import copyfile\n",
    "#copyfile('census_data_2009_acs5.csv','census_data_2007.csv')\n",
    "#copyfile('census_data_2014_acs5.csv','census_data_2012.csv')"
   ]
  },
  {
   "cell_type": "markdown",
   "metadata": {
    "collapsed": true
   },
   "source": [
    "### "
   ]
  }
 ],
 "metadata": {
  "kernelspec": {
   "display_name": "Python 3",
   "language": "python",
   "name": "python3"
  },
  "language_info": {
   "codemirror_mode": {
    "name": "ipython",
    "version": 3
   },
   "file_extension": ".py",
   "mimetype": "text/x-python",
   "name": "python",
   "nbconvert_exporter": "python",
   "pygments_lexer": "ipython3",
   "version": "3.5.2"
  }
 },
 "nbformat": 4,
 "nbformat_minor": 0
}
